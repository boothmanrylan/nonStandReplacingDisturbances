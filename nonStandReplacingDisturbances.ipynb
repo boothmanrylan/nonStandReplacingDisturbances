{
  "nbformat": 4,
  "nbformat_minor": 0,
  "metadata": {
    "colab": {
      "private_outputs": true,
      "provenance": [],
      "authorship_tag": "ABX9TyMQQHSXvJRxRWM5II/kOr37",
      "include_colab_link": true
    },
    "kernelspec": {
      "name": "python3",
      "display_name": "Python 3"
    },
    "language_info": {
      "name": "python"
    }
  },
  "cells": [
    {
      "cell_type": "markdown",
      "metadata": {
        "id": "view-in-github",
        "colab_type": "text"
      },
      "source": [
        "<a href=\"https://colab.research.google.com/github/boothmanrylan/nonStandReplacingDisturbances/blob/main/nonStandReplacingDisturbances.ipynb\" target=\"_parent\"><img src=\"https://colab.research.google.com/assets/colab-badge.svg\" alt=\"Open In Colab\"/></a>"
      ]
    },
    {
      "cell_type": "code",
      "source": [
        "!git clone https://github.com/boothmanrylan/nonStandReplacingDisturbances.git\n",
        "%cd nonStandReplacingDisturbances"
      ],
      "metadata": {
        "id": "yUL8fDtjqqna"
      },
      "execution_count": null,
      "outputs": []
    },
    {
      "cell_type": "code",
      "execution_count": null,
      "metadata": {
        "id": "rBMd-B1Ipxke"
      },
      "outputs": [],
      "source": [
        "import os\n",
        "\n",
        "import google\n",
        "from google.colab import auth\n",
        "import ee\n",
        "import geemap"
      ]
    },
    {
      "cell_type": "code",
      "source": [
        "auth.authenticate_user()\n",
        "\n",
        "project = 'api-project-269347469410'\n",
        "asset_path = f\"projects/{project}/assets/rylan-nonstandreplacingdisturbances\"\n",
        "\n",
        "os.environ['GOOGLE_CLOUD_PROJECT'] = project\n",
        "!gcloud config set project {project}\n",
        "\n",
        "credentials, _ = google.auth.default()\n",
        "ee.Initialize(\n",
        "    credentials,\n",
        "    project=project,\n",
        "    # opt_url='https://earthengine-highvolume.googleapis.com',\n",
        ")"
      ],
      "metadata": {
        "id": "PVgiQAoQqBvB"
      },
      "execution_count": null,
      "outputs": []
    },
    {
      "cell_type": "code",
      "source": [
        "NUM_POINTS = 1000  # points per train/test/val group\n",
        "\n",
        "disturbed_regions = ee.FeatureCollection(f\"{asset_path}/my-data/usfs-nsr-disturbances\")\n",
        "buffered_disturbed_regions = disturbed_regions.map(\n",
        "    lambda x: x.buffer(500, 100).bounds(100)\n",
        ")\n",
        "buffered_geometry = buffered_disturbed_regions.geometry(100).dissolve(100)\n",
        "\n",
        "def split_multipolygon(multipolygon):\n",
        "    # based on: https://gis.stackexchange.com/a/444779\n",
        "    size = multipolygon.coordinates().size()\n",
        "    indices = ee.List.sequence(0, size.subtract(1))\n",
        "\n",
        "    def grab_polygon(i):\n",
        "        geom = ee.Geometry.Polygon(multipolygon.coordinates().get(i))\n",
        "        return ee.Feature(geom, {'id': i, 'area': geom.area(100)})\n",
        "\n",
        "    return ee.FeatureCollection(indices.map(grab_polygon))\n",
        "\n",
        "split_geometry = split_multipolygon(buffered_geometry)\n",
        "\n",
        "# split into approx. 1/3 area to each of train/test/val by sorting by area and\n",
        "# then extracting every third geometry\n",
        "split_geometry = split_geometry.sort('area', False)\n",
        "N = split_geometry.size().subtract(1)\n",
        "\n",
        "train_indices = ee.List.sequence(0, N, 3)\n",
        "test_indices = ee.List.sequence(1, N, 3)\n",
        "val_indices = ee.List.sequence(2, N, 3)\n",
        "\n",
        "train_regions = split_geometry.filter(ee.Filter.inList('id', train_indices))\n",
        "test_regions = split_geometry.filter(ee.Filter.inList('id', test_indices))\n",
        "val_regions = split_geometry.filter(ee.Filter.inList('id', val_indices))\n",
        "\n",
        "def sample_points(rois):\n",
        "\n",
        "    disturbed_polys = disturbed_regions.filterBounds(rois)\n",
        "\n",
        "    # ensure each polygon has at least two samples in it\n",
        "    specific_disturbed_points = ee.FeatureCollection(disturbed_polys.map(\n",
        "        lambda x: ee.FeatureCollection.randomPoints(x.geometry(), 2, 42)\n",
        "    )).flatten()\n",
        "\n",
        "    # ensure that larger polygons have more than two samples in them\n",
        "    N = specific_disturbed_points.size()\n",
        "    other_disturbed_points = ee.FeatureCollection.randomPoints(\n",
        "        disturbed_polys.geometry(),\n",
        "        N.divide(2),\n",
        "        42\n",
        "    )\n",
        "    disturbed_points = specific_disturbed_points.merge(other_disturbed_points)\n",
        "    disturbed_points = disturbed_points.map(lambda x: x.set('class', 1))\n",
        "\n",
        "    # ensure that there is the same number of disturbed as undisturbed samples\n",
        "    undisturbed_points = ee.FeatureCollection.randomPoints(\n",
        "        rois.geometry().difference(disturbed_polys),\n",
        "        disturbed_points.size(),\n",
        "        42,\n",
        "    ).map(lambda x: x.set('class', 0))\n",
        "\n",
        "    return disturbed_points.merge(undisturbed_points)\n",
        "\n",
        "train_points = sample_points(train_regions)\n",
        "test_points = sample_points(test_regions)\n",
        "val_points = sample_points(val_regions)\n",
        "\n",
        "# disturbance_mask = disturbed_regions.map(\n",
        "#     lambda x: x.set('foo', 1)\n",
        "# ).reducetoimage(\n",
        "#     ['foo'], ee.reducer.first()\n",
        "# ).unmask().gt(0)"
      ],
      "metadata": {
        "id": "o9MJs8AnqWpL"
      },
      "execution_count": null,
      "outputs": []
    },
    {
      "cell_type": "code",
      "source": [
        "print(train_points.size().getInfo())\n",
        "train_points.aggregate_sum('class').getInfo()"
      ],
      "metadata": {
        "id": "Qtc2k3x-5dvZ"
      },
      "execution_count": null,
      "outputs": []
    },
    {
      "cell_type": "code",
      "source": [
        "Map = geemap.Map()\n",
        "Map.addLayer(disturbed_regions, {}, 'Disturbed Regions')\n",
        "Map.addLayer(split_geometry, {'color': 'white'}, 'ROI')\n",
        "Map.addLayer(train_points, {'color': 'red'}, 'Train Points')\n",
        "Map.addLayer(test_points, {'color': 'blue'}, 'Test Points')\n",
        "Map.addLayer(val_points, {'color': 'yellow'}, 'Val Points')\n",
        "Map"
      ],
      "metadata": {
        "id": "zpVLbxdzsXJa"
      },
      "execution_count": null,
      "outputs": []
    },
    {
      "cell_type": "code",
      "source": [
        "train_points.filter(ee.Filter.eq('class', 0)).size().getInfo()"
      ],
      "metadata": {
        "id": "WxT8KV2G1JG_"
      },
      "execution_count": null,
      "outputs": []
    }
  ]
}